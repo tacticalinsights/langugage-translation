{
 "cells": [
  {
   "cell_type": "code",
   "execution_count": 1,
   "id": "677ddeab",
   "metadata": {
    "execution": {
     "iopub.execute_input": "2024-01-08T16:35:58.822061Z",
     "iopub.status.busy": "2024-01-08T16:35:58.821438Z",
     "iopub.status.idle": "2024-01-08T16:36:10.587009Z",
     "shell.execute_reply": "2024-01-08T16:36:10.586190Z"
    },
    "papermill": {
     "duration": 11.775391,
     "end_time": "2024-01-08T16:36:10.589381",
     "exception": false,
     "start_time": "2024-01-08T16:35:58.813990",
     "status": "completed"
    },
    "tags": []
   },
   "outputs": [
    {
     "name": "stderr",
     "output_type": "stream",
     "text": [
      "/opt/conda/lib/python3.10/site-packages/scipy/__init__.py:146: UserWarning: A NumPy version >=1.16.5 and <1.23.0 is required for this version of SciPy (detected version 1.24.3\n",
      "  warnings.warn(f\"A NumPy version >={np_minversion} and <{np_maxversion}\"\n"
     ]
    }
   ],
   "source": [
    "import re\n",
    "import unicodedata\n",
    "import numpy as np\n",
    "import pandas as pd\n",
    "import tensorflow as tf\n",
    "from tensorflow.keras.preprocessing.text import Tokenizer\n",
    "from tensorflow.keras.preprocessing.sequence import pad_sequences\n",
    "from tensorflow.keras.layers import Input, Embedding, Bidirectional, LSTM,  Dense\n",
    "from tensorflow.keras.utils import plot_model\n",
    "from tensorflow.keras.callbacks import EarlyStopping\n",
    "from tensorflow.keras.models import load_model"
   ]
  },
  {
   "cell_type": "markdown",
   "id": "236537ab",
   "metadata": {
    "papermill": {
     "duration": 0.005368,
     "end_time": "2024-01-08T16:36:10.600624",
     "exception": false,
     "start_time": "2024-01-08T16:36:10.595256",
     "status": "completed"
    },
    "tags": []
   },
   "source": [
    "## Prepare Data"
   ]
  },
  {
   "cell_type": "code",
   "execution_count": 2,
   "id": "06d4db85",
   "metadata": {
    "execution": {
     "iopub.execute_input": "2024-01-08T16:36:10.613133Z",
     "iopub.status.busy": "2024-01-08T16:36:10.612530Z",
     "iopub.status.idle": "2024-01-08T16:36:11.243072Z",
     "shell.execute_reply": "2024-01-08T16:36:11.242115Z"
    },
    "papermill": {
     "duration": 0.639038,
     "end_time": "2024-01-08T16:36:11.245165",
     "exception": false,
     "start_time": "2024-01-08T16:36:10.606127",
     "status": "completed"
    },
    "tags": []
   },
   "outputs": [
    {
     "data": {
      "text/html": [
       "<div>\n",
       "<style scoped>\n",
       "    .dataframe tbody tr th:only-of-type {\n",
       "        vertical-align: middle;\n",
       "    }\n",
       "\n",
       "    .dataframe tbody tr th {\n",
       "        vertical-align: top;\n",
       "    }\n",
       "\n",
       "    .dataframe thead th {\n",
       "        text-align: right;\n",
       "    }\n",
       "</style>\n",
       "<table border=\"1\" class=\"dataframe\">\n",
       "  <thead>\n",
       "    <tr style=\"text-align: right;\">\n",
       "      <th></th>\n",
       "      <th>English words/sentences</th>\n",
       "      <th>French words/sentences</th>\n",
       "    </tr>\n",
       "  </thead>\n",
       "  <tbody>\n",
       "    <tr>\n",
       "      <th>21700</th>\n",
       "      <td>We've all seen it.</td>\n",
       "      <td>Nous l'avons tous vu.</td>\n",
       "    </tr>\n",
       "    <tr>\n",
       "      <th>141398</th>\n",
       "      <td>I'm hungry because I haven't had lunch.</td>\n",
       "      <td>J'ai faim car je n'ai pas déjeuné.</td>\n",
       "    </tr>\n",
       "    <tr>\n",
       "      <th>75404</th>\n",
       "      <td>I didn't see Tom yesterday.</td>\n",
       "      <td>Je n'ai pas vu Tom hier.</td>\n",
       "    </tr>\n",
       "  </tbody>\n",
       "</table>\n",
       "</div>"
      ],
      "text/plain": [
       "                        English words/sentences  \\\n",
       "21700                        We've all seen it.   \n",
       "141398  I'm hungry because I haven't had lunch.   \n",
       "75404               I didn't see Tom yesterday.   \n",
       "\n",
       "                    French words/sentences  \n",
       "21700                Nous l'avons tous vu.  \n",
       "141398  J'ai faim car je n'ai pas déjeuné.  \n",
       "75404             Je n'ai pas vu Tom hier.  "
      ]
     },
     "execution_count": 2,
     "metadata": {},
     "output_type": "execute_result"
    }
   ],
   "source": [
    "df = pd.read_csv(\"/kaggle/input/language-translation-englishfrench/eng_-french.csv\")\n",
    "df = df.sample(frac=1)\n",
    "df.head(3)"
   ]
  },
  {
   "cell_type": "code",
   "execution_count": 3,
   "id": "308c3d60",
   "metadata": {
    "execution": {
     "iopub.execute_input": "2024-01-08T16:36:11.258305Z",
     "iopub.status.busy": "2024-01-08T16:36:11.257972Z",
     "iopub.status.idle": "2024-01-08T16:36:11.265597Z",
     "shell.execute_reply": "2024-01-08T16:36:11.264762Z"
    },
    "papermill": {
     "duration": 0.016296,
     "end_time": "2024-01-08T16:36:11.267590",
     "exception": false,
     "start_time": "2024-01-08T16:36:11.251294",
     "status": "completed"
    },
    "tags": []
   },
   "outputs": [
    {
     "data": {
      "text/plain": [
       "(140496, 35125)"
      ]
     },
     "execution_count": 3,
     "metadata": {},
     "output_type": "execute_result"
    }
   ],
   "source": [
    "train_ratio = 0.8\n",
    "val_ratio = 0.2\n",
    "\n",
    "train = df.iloc[:int(len(df) * 0.8)]\n",
    "val = df.iloc[int(len(df) * 0.8):]\n",
    "\n",
    "assert(len(train) + len(val) == len(df))\n",
    "len(train), len(val)"
   ]
  },
  {
   "cell_type": "code",
   "execution_count": 4,
   "id": "bb880ac2",
   "metadata": {
    "execution": {
     "iopub.execute_input": "2024-01-08T16:36:11.280711Z",
     "iopub.status.busy": "2024-01-08T16:36:11.280121Z",
     "iopub.status.idle": "2024-01-08T16:36:11.286158Z",
     "shell.execute_reply": "2024-01-08T16:36:11.285464Z"
    },
    "papermill": {
     "duration": 0.014611,
     "end_time": "2024-01-08T16:36:11.288123",
     "exception": false,
     "start_time": "2024-01-08T16:36:11.273512",
     "status": "completed"
    },
    "tags": []
   },
   "outputs": [],
   "source": [
    "# unicode normalization\n",
    "def normalize_unicode(s):\n",
    "    return ''.join(c for c in unicodedata.normalize('NFD', s) if unicodedata.category(c) != 'Mn')\n",
    "\n",
    "# retain punctuation, delete whitespace\n",
    "def preprocess(s):\n",
    "    s = normalize_unicode(s)\n",
    "    s = re.sub(r\"([?.!,¿])\", r\" \\1 \", s)\n",
    "    s = re.sub(r'[\" \"]+', \" \", s)\n",
    "    s = s.strip()\n",
    "    return s\n",
    "\n",
    "# add <sos>, <eos> tags\n",
    "def tag_sentences(sentences):\n",
    "    tagged_sentences = map(lambda s: ' '.join(['<sos>', s, '<eos>']), sentences)\n",
    "    return list(tagged_sentences)"
   ]
  },
  {
   "cell_type": "code",
   "execution_count": 5,
   "id": "8ba1d8ed",
   "metadata": {
    "execution": {
     "iopub.execute_input": "2024-01-08T16:36:11.300940Z",
     "iopub.status.busy": "2024-01-08T16:36:11.300649Z",
     "iopub.status.idle": "2024-01-08T16:36:11.309013Z",
     "shell.execute_reply": "2024-01-08T16:36:11.308139Z"
    },
    "papermill": {
     "duration": 0.017173,
     "end_time": "2024-01-08T16:36:11.310981",
     "exception": false,
     "start_time": "2024-01-08T16:36:11.293808",
     "status": "completed"
    },
    "tags": []
   },
   "outputs": [],
   "source": [
    "def prepare_data(data, input_tokenizer, output_tokenizer, fit_tokenizer, max_encoding_length, max_decoding_length):\n",
    "    input_sentences = list(data['French words/sentences'].values)\n",
    "    output_sentences = list(data['English words/sentences'].values)\n",
    "    input_sentences_preprocessed = [preprocess(sentence) for sentence in input_sentences]\n",
    "    output_sentences_preprocessed = [preprocess(sentence) for sentence in output_sentences]\n",
    "    output_sentences_preprocessed = tag_sentences(output_sentences_preprocessed)\n",
    "    if fit_tokenizer:\n",
    "        input_tokenizer.fit_on_texts(input_sentences_preprocessed)\n",
    "        output_tokenizer.fit_on_texts(output_sentences_preprocessed)\n",
    "    INPUT_VOCAB_SIZE = len(input_tokenizer.word_index) + 1\n",
    "    OUTPUT_VOCAB_SIZE = len(output_tokenizer.word_index) + 1\n",
    "    input_sequences = input_tokenizer.texts_to_sequences(input_sentences_preprocessed)\n",
    "    output_sequences = output_tokenizer.texts_to_sequences(output_sentences_preprocessed)\n",
    "    decoder_inputs = [sequence[:-1] for sequence in output_sequences]\n",
    "    decoder_targets = [sequence[1:] for sequence in output_sequences]\n",
    "    encoder_inputs = pad_sequences(input_sequences, maxlen=max_encoding_length, padding='post', truncating='post')\n",
    "    decoder_inputs = pad_sequences(decoder_inputs, maxlen=max_decoding_length, padding='post', truncating='post')\n",
    "    decoder_targets = pad_sequences(decoder_targets, maxlen=max_decoding_length, padding='post', truncating='post')\n",
    "    return encoder_inputs, decoder_inputs, decoder_targets, INPUT_VOCAB_SIZE, OUTPUT_VOCAB_SIZE"
   ]
  },
  {
   "cell_type": "code",
   "execution_count": 6,
   "id": "90cbb825",
   "metadata": {
    "execution": {
     "iopub.execute_input": "2024-01-08T16:36:11.324167Z",
     "iopub.status.busy": "2024-01-08T16:36:11.323853Z",
     "iopub.status.idle": "2024-01-08T16:36:11.328288Z",
     "shell.execute_reply": "2024-01-08T16:36:11.327441Z"
    },
    "papermill": {
     "duration": 0.013134,
     "end_time": "2024-01-08T16:36:11.330181",
     "exception": false,
     "start_time": "2024-01-08T16:36:11.317047",
     "status": "completed"
    },
    "tags": []
   },
   "outputs": [],
   "source": [
    "en_tokenizer = Tokenizer(oov_token='<UNK_EN', filters='\"#$%&()*+-/:;=@[\\\\]^_`{|}~\\t\\n')\n",
    "fr_tokenizer = Tokenizer(oov_token='<UNK_FR>', filters='\"#$%&()*+-/:;=@[\\\\]^_`{|}~\\t\\n')"
   ]
  },
  {
   "cell_type": "code",
   "execution_count": 7,
   "id": "697d055f",
   "metadata": {
    "execution": {
     "iopub.execute_input": "2024-01-08T16:36:11.342873Z",
     "iopub.status.busy": "2024-01-08T16:36:11.342579Z",
     "iopub.status.idle": "2024-01-08T16:36:11.800695Z",
     "shell.execute_reply": "2024-01-08T16:36:11.799365Z"
    },
    "papermill": {
     "duration": 0.467141,
     "end_time": "2024-01-08T16:36:11.803171",
     "exception": false,
     "start_time": "2024-01-08T16:36:11.336030",
     "status": "completed"
    },
    "tags": []
   },
   "outputs": [],
   "source": [
    "MAX_ENCODING_LENGTH = int(df['English words/sentences'].apply(lambda x: len(x.split())).quantile(0.95))\n",
    "MAX_DECODING_LENGTH = int(df['French words/sentences'].apply(lambda x: len(x.split())).quantile(0.95)) - 1"
   ]
  },
  {
   "cell_type": "code",
   "execution_count": 8,
   "id": "531432be",
   "metadata": {
    "execution": {
     "iopub.execute_input": "2024-01-08T16:36:11.816586Z",
     "iopub.status.busy": "2024-01-08T16:36:11.816263Z",
     "iopub.status.idle": "2024-01-08T16:36:31.305806Z",
     "shell.execute_reply": "2024-01-08T16:36:31.304808Z"
    },
    "papermill": {
     "duration": 19.498715,
     "end_time": "2024-01-08T16:36:31.308166",
     "exception": false,
     "start_time": "2024-01-08T16:36:11.809451",
     "status": "completed"
    },
    "tags": []
   },
   "outputs": [],
   "source": [
    "encoder_inputs_train, decoder_inputs_train, decoder_targets_train, FR_VOCAB_SIZE, EN_VOCAB_SIZE = prepare_data(train, fr_tokenizer, en_tokenizer, True, MAX_ENCODING_LENGTH, MAX_DECODING_LENGTH)\n",
    "encoder_inputs_val, decoder_inputs_val, decoder_targets_val, _, _ = prepare_data(val, fr_tokenizer, en_tokenizer, False, MAX_ENCODING_LENGTH, MAX_DECODING_LENGTH)"
   ]
  },
  {
   "cell_type": "markdown",
   "id": "09b819ef",
   "metadata": {
    "papermill": {
     "duration": 0.005696,
     "end_time": "2024-01-08T16:36:31.320059",
     "exception": false,
     "start_time": "2024-01-08T16:36:31.314363",
     "status": "completed"
    },
    "tags": []
   },
   "source": [
    "## Model"
   ]
  },
  {
   "cell_type": "code",
   "execution_count": 9,
   "id": "6e4be62e",
   "metadata": {
    "execution": {
     "iopub.execute_input": "2024-01-08T16:36:31.333312Z",
     "iopub.status.busy": "2024-01-08T16:36:31.332537Z",
     "iopub.status.idle": "2024-01-08T16:36:34.132479Z",
     "shell.execute_reply": "2024-01-08T16:36:34.131510Z"
    },
    "papermill": {
     "duration": 2.809121,
     "end_time": "2024-01-08T16:36:34.134915",
     "exception": false,
     "start_time": "2024-01-08T16:36:31.325794",
     "status": "completed"
    },
    "tags": []
   },
   "outputs": [],
   "source": [
    "encoder_inputs = Input(shape=[None])\n",
    "encoder_embeddings = Embedding(input_dim=EN_VOCAB_SIZE,\n",
    "                               output_dim=256,\n",
    "                               mask_zero=True)(encoder_inputs)\n",
    "_, state_h, state_c = LSTM(units=1024,\n",
    "                           return_state=True,\n",
    "                           return_sequences=False,\n",
    "                           dropout=0.2)(encoder_embeddings)\n",
    "encoder_states = [state_h, state_c]"
   ]
  },
  {
   "cell_type": "code",
   "execution_count": 10,
   "id": "ac842288",
   "metadata": {
    "execution": {
     "iopub.execute_input": "2024-01-08T16:36:34.149680Z",
     "iopub.status.busy": "2024-01-08T16:36:34.148936Z",
     "iopub.status.idle": "2024-01-08T16:36:35.992630Z",
     "shell.execute_reply": "2024-01-08T16:36:35.991596Z"
    },
    "papermill": {
     "duration": 1.854487,
     "end_time": "2024-01-08T16:36:35.995517",
     "exception": false,
     "start_time": "2024-01-08T16:36:34.141030",
     "status": "completed"
    },
    "tags": []
   },
   "outputs": [],
   "source": [
    "decoder_inputs = Input(shape=[None])\n",
    "decoder_embeddings = Embedding(input_dim=FR_VOCAB_SIZE,\n",
    "                               output_dim=256,\n",
    "                               mask_zero=True)(decoder_inputs)\n",
    "decoder_lstm, _, _ = LSTM(units=1024,\n",
    "                           return_state=True,\n",
    "                           return_sequences=True,\n",
    "                           dropout=0.2)(decoder_embeddings, initial_state=encoder_states)\n",
    "decoder_dense = Dense(units=FR_VOCAB_SIZE, \n",
    "                      activation='softmax')(decoder_lstm)"
   ]
  },
  {
   "cell_type": "code",
   "execution_count": 11,
   "id": "3ea1ec57",
   "metadata": {
    "execution": {
     "iopub.execute_input": "2024-01-08T16:36:36.012281Z",
     "iopub.status.busy": "2024-01-08T16:36:36.011556Z",
     "iopub.status.idle": "2024-01-08T16:36:36.025600Z",
     "shell.execute_reply": "2024-01-08T16:36:36.024749Z"
    },
    "papermill": {
     "duration": 0.02356,
     "end_time": "2024-01-08T16:36:36.027630",
     "exception": false,
     "start_time": "2024-01-08T16:36:36.004070",
     "status": "completed"
    },
    "tags": []
   },
   "outputs": [],
   "source": [
    "model = tf.keras.Model(inputs=[encoder_inputs, decoder_inputs], \n",
    "                       outputs=decoder_dense,\n",
    "                       name='english-french-translation')"
   ]
  },
  {
   "cell_type": "code",
   "execution_count": 12,
   "id": "18345159",
   "metadata": {
    "execution": {
     "iopub.execute_input": "2024-01-08T16:36:36.041019Z",
     "iopub.status.busy": "2024-01-08T16:36:36.040317Z",
     "iopub.status.idle": "2024-01-08T16:36:36.077103Z",
     "shell.execute_reply": "2024-01-08T16:36:36.075940Z"
    },
    "papermill": {
     "duration": 0.04822,
     "end_time": "2024-01-08T16:36:36.081699",
     "exception": false,
     "start_time": "2024-01-08T16:36:36.033479",
     "status": "completed"
    },
    "tags": []
   },
   "outputs": [
    {
     "name": "stdout",
     "output_type": "stream",
     "text": [
      "Model: \"english-french-translation\"\n",
      "__________________________________________________________________________________________________\n",
      " Layer (type)                Output Shape                 Param #   Connected to                  \n",
      "==================================================================================================\n",
      " input_1 (InputLayer)        [(None, None)]               0         []                            \n",
      "                                                                                                  \n",
      " input_2 (InputLayer)        [(None, None)]               0         []                            \n",
      "                                                                                                  \n",
      " embedding (Embedding)       (None, None, 256)            3460352   ['input_1[0][0]']             \n",
      "                                                                                                  \n",
      " embedding_1 (Embedding)     (None, None, 256)            6929152   ['input_2[0][0]']             \n",
      "                                                                                                  \n",
      " lstm (LSTM)                 [(None, 1024),               5246976   ['embedding[0][0]']           \n",
      "                              (None, 1024),                                                       \n",
      "                              (None, 1024)]                                                       \n",
      "                                                                                                  \n",
      " lstm_1 (LSTM)               [(None, None, 1024),         5246976   ['embedding_1[0][0]',         \n",
      "                              (None, 1024),                          'lstm[0][1]',                \n",
      "                              (None, 1024)]                          'lstm[0][2]']                \n",
      "                                                                                                  \n",
      " dense (Dense)               (None, None, 27067)          2774367   ['lstm_1[0][0]']              \n",
      "                                                          5                                       \n",
      "                                                                                                  \n",
      "==================================================================================================\n",
      "Total params: 48627131 (185.50 MB)\n",
      "Trainable params: 48627131 (185.50 MB)\n",
      "Non-trainable params: 0 (0.00 Byte)\n",
      "__________________________________________________________________________________________________\n"
     ]
    }
   ],
   "source": [
    "model.summary()"
   ]
  },
  {
   "cell_type": "code",
   "execution_count": 13,
   "id": "3429e391",
   "metadata": {
    "execution": {
     "iopub.execute_input": "2024-01-08T16:36:36.099268Z",
     "iopub.status.busy": "2024-01-08T16:36:36.098952Z",
     "iopub.status.idle": "2024-01-08T16:36:36.336510Z",
     "shell.execute_reply": "2024-01-08T16:36:36.335475Z"
    },
    "papermill": {
     "duration": 0.249124,
     "end_time": "2024-01-08T16:36:36.338881",
     "exception": false,
     "start_time": "2024-01-08T16:36:36.089757",
     "status": "completed"
    },
    "tags": []
   },
   "outputs": [
    {
     "data": {
      "image/png": "[encoded data removed]",
      "text/plain": [
       "<IPython.core.display.Image object>"
      ]
     },
     "execution_count": 13,
     "metadata": {},
     "output_type": "execute_result"
    }
   ],
   "source": [
    "plot_model(model, show_shapes=True)"
   ]
  },
  {
   "cell_type": "code",
   "execution_count": 14,
   "id": "93df6616",
   "metadata": {
    "execution": {
     "iopub.execute_input": "2024-01-08T16:36:36.358238Z",
     "iopub.status.busy": "2024-01-08T16:36:36.357933Z",
     "iopub.status.idle": "2024-01-08T16:36:36.378205Z",
     "shell.execute_reply": "2024-01-08T16:36:36.377320Z"
    },
    "papermill": {
     "duration": 0.032185,
     "end_time": "2024-01-08T16:36:36.380143",
     "exception": false,
     "start_time": "2024-01-08T16:36:36.347958",
     "status": "completed"
    },
    "tags": []
   },
   "outputs": [],
   "source": [
    "model.compile(optimizer='adam',\n",
    "              loss='sparse_categorical_crossentropy',\n",
    "              metrics='accuracy')"
   ]
  },
  {
   "cell_type": "code",
   "execution_count": 15,
   "id": "5fb81a11",
   "metadata": {
    "execution": {
     "iopub.execute_input": "2024-01-08T16:36:36.399417Z",
     "iopub.status.busy": "2024-01-08T16:36:36.399057Z",
     "iopub.status.idle": "2024-01-08T16:36:36.403782Z",
     "shell.execute_reply": "2024-01-08T16:36:36.402937Z"
    },
    "papermill": {
     "duration": 0.017021,
     "end_time": "2024-01-08T16:36:36.406138",
     "exception": false,
     "start_time": "2024-01-08T16:36:36.389117",
     "status": "completed"
    },
    "tags": []
   },
   "outputs": [],
   "source": [
    "callback = EarlyStopping(monitor='val_accuracy', \n",
    "                         patience=3,\n",
    "                         restore_best_weights=True)"
   ]
  },
  {
   "cell_type": "code",
   "execution_count": 16,
   "id": "1b3bfc1f",
   "metadata": {
    "execution": {
     "iopub.execute_input": "2024-01-08T16:36:36.428948Z",
     "iopub.status.busy": "2024-01-08T16:36:36.428251Z",
     "iopub.status.idle": "2024-01-08T17:43:17.657627Z",
     "shell.execute_reply": "2024-01-08T17:43:17.656670Z"
    },
    "papermill": {
     "duration": 4004.530979,
     "end_time": "2024-01-08T17:43:20.949228",
     "exception": false,
     "start_time": "2024-01-08T16:36:36.418249",
     "status": "completed"
    },
    "tags": []
   },
   "outputs": [
    {
     "name": "stdout",
     "output_type": "stream",
     "text": [
      "Epoch 1/20\n",
      "2008/2008 [==============================] - 230s 110ms/step - loss: 3.7281 - accuracy: 0.3775 - val_loss: 2.9447 - val_accuracy: 0.4715\n",
      "Epoch 2/20\n",
      "2008/2008 [==============================] - 200s 100ms/step - loss: 2.5063 - accuracy: 0.5261 - val_loss: 2.3069 - val_accuracy: 0.5674\n",
      "Epoch 3/20\n",
      "2008/2008 [==============================] - 199s 99ms/step - loss: 1.8823 - accuracy: 0.6131 - val_loss: 1.9333 - val_accuracy: 0.6326\n",
      "Epoch 4/20\n",
      "2008/2008 [==============================] - 198s 99ms/step - loss: 1.4545 - accuracy: 0.6803 - val_loss: 1.7437 - val_accuracy: 0.6693\n",
      "Epoch 5/20\n",
      "2008/2008 [==============================] - 199s 99ms/step - loss: 1.1572 - accuracy: 0.7320 - val_loss: 1.6083 - val_accuracy: 0.6987\n",
      "Epoch 6/20\n",
      "2008/2008 [==============================] - 199s 99ms/step - loss: 0.9064 - accuracy: 0.7811 - val_loss: 1.5268 - val_accuracy: 0.7201\n",
      "Epoch 7/20\n",
      "2008/2008 [==============================] - 199s 99ms/step - loss: 0.7237 - accuracy: 0.8200 - val_loss: 1.4857 - val_accuracy: 0.7340\n",
      "Epoch 8/20\n",
      "2008/2008 [==============================] - 199s 99ms/step - loss: 0.6185 - accuracy: 0.8426 - val_loss: 1.4827 - val_accuracy: 0.7391\n",
      "Epoch 9/20\n",
      "2008/2008 [==============================] - 199s 99ms/step - loss: 0.5378 - accuracy: 0.8614 - val_loss: 1.4653 - val_accuracy: 0.7491\n",
      "Epoch 10/20\n",
      "2008/2008 [==============================] - 198s 99ms/step - loss: 0.4537 - accuracy: 0.8810 - val_loss: 1.4753 - val_accuracy: 0.7520\n",
      "Epoch 11/20\n",
      "2008/2008 [==============================] - 198s 99ms/step - loss: 0.3895 - accuracy: 0.8957 - val_loss: 1.4793 - val_accuracy: 0.7576\n",
      "Epoch 12/20\n",
      "2008/2008 [==============================] - 198s 99ms/step - loss: 0.3380 - accuracy: 0.9086 - val_loss: 1.4991 - val_accuracy: 0.7593\n",
      "Epoch 13/20\n",
      "2008/2008 [==============================] - 198s 99ms/step - loss: 0.2925 - accuracy: 0.9195 - val_loss: 1.5064 - val_accuracy: 0.7647\n",
      "Epoch 14/20\n",
      "2008/2008 [==============================] - 198s 99ms/step - loss: 0.2492 - accuracy: 0.9306 - val_loss: 1.5251 - val_accuracy: 0.7659\n",
      "Epoch 15/20\n",
      "2008/2008 [==============================] - 198s 99ms/step - loss: 0.2209 - accuracy: 0.9381 - val_loss: 1.5557 - val_accuracy: 0.7688\n",
      "Epoch 16/20\n",
      "2008/2008 [==============================] - 198s 98ms/step - loss: 0.2081 - accuracy: 0.9415 - val_loss: 1.5743 - val_accuracy: 0.7662\n",
      "Epoch 17/20\n",
      "2008/2008 [==============================] - 199s 99ms/step - loss: 0.1935 - accuracy: 0.9450 - val_loss: 1.5910 - val_accuracy: 0.7683\n",
      "Epoch 18/20\n",
      "2008/2008 [==============================] - 199s 99ms/step - loss: 0.1720 - accuracy: 0.9510 - val_loss: 1.6123 - val_accuracy: 0.7700\n",
      "Epoch 19/20\n",
      "2008/2008 [==============================] - 198s 99ms/step - loss: 0.1616 - accuracy: 0.9539 - val_loss: 1.6364 - val_accuracy: 0.7690\n",
      "Epoch 20/20\n",
      "2008/2008 [==============================] - 198s 99ms/step - loss: 0.1517 - accuracy: 0.9565 - val_loss: 1.6591 - val_accuracy: 0.7698\n"
     ]
    }
   ],
   "source": [
    "history = model.fit([encoder_inputs_train, decoder_inputs_train],\n",
    "                    decoder_targets_train,\n",
    "                    validation_data=([encoder_inputs_val, decoder_inputs_val], decoder_targets_val),\n",
    "                    epochs=20,\n",
    "                    batch_size=70,\n",
    "                    callbacks=[callback])\n"
   ]
  },
  {
   "cell_type": "code",
   "execution_count": 17,
   "id": "493a6144",
   "metadata": {
    "execution": {
     "iopub.execute_input": "2024-01-08T17:43:27.542816Z",
     "iopub.status.busy": "2024-01-08T17:43:27.542400Z",
     "iopub.status.idle": "2024-01-08T17:44:12.375097Z",
     "shell.execute_reply": "2024-01-08T17:44:12.373956Z"
    },
    "papermill": {
     "duration": 51.242114,
     "end_time": "2024-01-08T17:44:15.495336",
     "exception": false,
     "start_time": "2024-01-08T17:43:24.253222",
     "status": "completed"
    },
    "tags": []
   },
   "outputs": [
    {
     "name": "stdout",
     "output_type": "stream",
     "text": [
      "  adding: english-french-translation-model/ (stored 0%)\r\n",
      "  adding: english-french-translation-model/variables/ (stored 0%)\r\n",
      "  adding: english-french-translation-model/variables/variables.index (deflated 63%)\r\n",
      "  adding: english-french-translation-model/variables/variables.data-00000-of-00001 (deflated 14%)\r\n",
      "  adding: english-french-translation-model/assets/ (stored 0%)\r\n",
      "  adding: english-french-translation-model/saved_model.pb (deflated 90%)\r\n",
      "  adding: english-french-translation-model/fingerprint.pb (stored 0%)\r\n",
      "  adding: english-french-translation-model/keras_metadata.pb (deflated 90%)\r\n"
     ]
    }
   ],
   "source": [
    "model.save('english-french-translation-model')\n",
    "!zip -r ./english-french-translation-model.zip ./english-french-translation-model"
   ]
  }
 ],
 "metadata": {
  "kaggle": {
   "accelerator": "gpu",
   "dataSources": [
    {
     "datasetId": 592212,
     "sourceId": 1067156,
     "sourceType": "datasetVersion"
    }
   ],
   "dockerImageVersionId": 30627,
   "isGpuEnabled": true,
   "isInternetEnabled": true,
   "language": "python",
   "sourceType": "notebook"
  },
  "kernelspec": {
   "display_name": "Python 3",
   "language": "python",
   "name": "python3"
  },
  "language_info": {
   "codemirror_mode": {
    "name": "ipython",
    "version": 3
   },
   "file_extension": ".py",
   "mimetype": "text/x-python",
   "name": "python",
   "nbconvert_exporter": "python",
   "pygments_lexer": "ipython3",
   "version": "3.10.12"
  },
  "papermill": {
   "default_parameters": {},
   "duration": 4106.87223,
   "end_time": "2024-01-08T17:44:22.408208",
   "environment_variables": {},
   "exception": null,
   "input_path": "__notebook__.ipynb",
   "output_path": "__notebook__.ipynb",
   "parameters": {},
   "start_time": "2024-01-08T16:35:55.535978",
   "version": "2.4.0"
  }
 },
 "nbformat": 4,
 "nbformat_minor": 5
}
